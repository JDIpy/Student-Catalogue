{
 "cells": [
  {
   "cell_type": "markdown",
   "id": "07c54257",
   "metadata": {},
   "source": [
    "# Title: Student Catalog Management System"
   ]
  },
  {
   "cell_type": "markdown",
   "id": "1b356b0f",
   "metadata": {},
   "source": [
    "## Introduction:\n",
    "### This Jupyter Notebook demonstrates a simple student catalog management system.\n",
    "### It includes a class CatalogoEstudiantes for managing student records."
   ]
  },
  {
   "cell_type": "code",
   "execution_count": 4,
   "id": "2452f8e7",
   "metadata": {},
   "outputs": [],
   "source": [
    "class StudentCatalog:\n",
    "    def __init__(self):\n",
    "        self.students = []"
   ]
  },
  {
   "cell_type": "markdown",
   "id": "d96cde83",
   "metadata": {},
   "source": [
    "### Code for adding a student"
   ]
  },
  {
   "cell_type": "code",
   "execution_count": 7,
   "id": "dc352510",
   "metadata": {},
   "outputs": [],
   "source": [
    "    def add_student(self, records, last_index):\n",
    "        student_id = input(\"Enter the student's ID: \")\n",
    "        name = input(\"Enter the student's name: \")\n",
    "        last_name = input(\"Enter the student's last name: \")\n",
    "        middle_name = input(\"Enter the student's middle name: \")\n",
    "        major = input(\"Enter the student's major: \")\n",
    "        email = input(\"Enter the student's email: \")\n",
    "        phone = input(\"Enter the student's phone number: \")\n",
    "\n",
    "        student = {\n",
    "            'student_id': student_id,\n",
    "            'name': name,\n",
    "            'last_name': last_name,\n",
    "            'middle_name': middle_name,\n",
    "            'major': major,\n",
    "            'email': email,\n",
    "            'phone': phone\n",
    "        }\n",
    "        records.append(student)\n",
    "\n",
    "        last_index += 1\n",
    "        return last_index"
   ]
  },
  {
   "cell_type": "markdown",
   "id": "da1877fc",
   "metadata": {},
   "source": [
    "### Code for removing a student"
   ]
  },
  {
   "cell_type": "code",
   "execution_count": 8,
   "id": "35a74a85",
   "metadata": {},
   "outputs": [],
   "source": [
    "    def remove_student(self, student_id):\n",
    "        student_found = None\n",
    "        for student in self.students:\n",
    "            if student['student_id'] == student_id:\n",
    "                student_found = student\n",
    "                self.students.remove(student)\n",
    "                break\n",
    "        return student_found"
   ]
  },
  {
   "cell_type": "markdown",
   "id": "96c15cae",
   "metadata": {},
   "source": [
    "### Code for modifying a student"
   ]
  },
  {
   "cell_type": "code",
   "execution_count": 9,
   "id": "4c1a45ac",
   "metadata": {},
   "outputs": [],
   "source": [
    "    def modify_student(self, student_id, new_name, new_last_name, new_middle_name, new_major, new_email, new_phone):\n",
    "        for student in self.students:\n",
    "            if student['student_id'] == student_id:\n",
    "                student['name'] = new_name\n",
    "                student['last_name'] = new_last_name\n",
    "                student['middle_name'] = new_middle_name\n",
    "                student['major'] = new_major\n",
    "                student['email'] = new_email\n",
    "                student['phone'] = new_phone\n",
    "                break"
   ]
  },
  {
   "cell_type": "markdown",
   "id": "59675e62",
   "metadata": {},
   "source": [
    "### Code for finding a student"
   ]
  },
  {
   "cell_type": "code",
   "execution_count": 10,
   "id": "96f49d2d",
   "metadata": {},
   "outputs": [],
   "source": [
    "    def find_student(self, student_id):\n",
    "        for student in self.students:\n",
    "            if student['student_id'] == student_id:\n",
    "                return student\n",
    "        return None"
   ]
  },
  {
   "cell_type": "markdown",
   "id": "95e18c3f",
   "metadata": {},
   "source": [
    "### Code for listing all students"
   ]
  },
  {
   "cell_type": "code",
   "execution_count": 11,
   "id": "8c20f3b6",
   "metadata": {},
   "outputs": [],
   "source": [
    "    def list_students(self):\n",
    "        return self.students"
   ]
  },
  {
   "cell_type": "markdown",
   "id": "c2e57b56",
   "metadata": {},
   "source": [
    "### Function to display the menu and get the user's choice"
   ]
  },
  {
   "cell_type": "code",
   "execution_count": 12,
   "id": "e4f8e9a4",
   "metadata": {},
   "outputs": [],
   "source": [
    "def display_menu():\n",
    "    print(\"\\nMain Menu\")\n",
    "    print(\"1. Add Students\")\n",
    "    print(\"2. Remove Students\")\n",
    "    print(\"3. Modify Students\")\n",
    "    print(\"4. Show All\")\n",
    "    print(\"5. Search for Student\")\n",
    "    print(\"6. Exit\")\n",
    "    option = int(input(\"Enter your option: \"))\n",
    "    return option"
   ]
  },
  {
   "cell_type": "markdown",
   "id": "4fc5e405",
   "metadata": {},
   "source": [
    "### Function to display the confirmation menu for deletion"
   ]
  },
  {
   "cell_type": "code",
   "execution_count": 13,
   "id": "f41d22e5",
   "metadata": {},
   "outputs": [],
   "source": [
    "def display_delete_confirmation_menu():\n",
    "    print(\"Are you sure you want to delete the student?\")\n",
    "    print(\"1. Yes\")\n",
    "    print(\"2. No\")\n",
    "    option = int(input(\"Enter your selection: \"))\n",
    "    return option"
   ]
  },
  {
   "cell_type": "markdown",
   "id": "f30916fa",
   "metadata": {},
   "source": [
    "### Usage:"
   ]
  },
  {
   "cell_type": "code",
   "execution_count": null,
   "id": "73287fa6",
   "metadata": {},
   "outputs": [
    {
     "name": "stdout",
     "output_type": "stream",
     "text": [
      "\n",
      "Main Menu\n",
      "1. Add Students\n",
      "2. Remove Students\n",
      "3. Modify Students\n",
      "4. Show All\n",
      "5. Search for Student\n",
      "6. Exit\n"
     ]
    }
   ],
   "source": [
    "catalog = StudentCatalog()\n",
    "last_index = -1\n",
    "while True:\n",
    "    option = display_menu()\n",
    "\n",
    "    if option == 1:\n",
    "        last_index = catalog.add_student(catalog.students, last_index)"
   ]
  },
  {
   "cell_type": "markdown",
   "id": "c8e60bac",
   "metadata": {},
   "source": [
    "### Removing a student"
   ]
  },
  {
   "cell_type": "code",
   "execution_count": null,
   "id": "01e65d78",
   "metadata": {},
   "outputs": [],
   "source": [
    "    elif option == 2:\n",
    "        student_id_to_remove = input(\"Enter the student ID to remove: \")\n",
    "        student_found = catalog.remove_student(student_id_to_remove)\n",
    "        if student_found:\n",
    "            print(\"Student found, their details are:\")\n",
    "            print(\"Student ID:\", student_found['student_id'])\n",
    "            print(\"Name:\", student_found['name'])\n",
    "            print(\"Last Name:\", student_found['last_name'])\n",
    "            print(\"Middle Name:\", student_found['middle_name'])\n",
    "            print(\"Major:\", student_found['major'])\n",
    "            print(\"Email:\", student_found['email'])\n",
    "            print(\"Phone:\", student_found['phone'])\n",
    "\n",
    "            delete_confirmation = display_delete_confirmation_menu()\n",
    "            if delete_confirmation == 1:\n",
    "                if catalog.remove_student(student_id_to_remove):\n",
    "                    print(\"Student removed successfully.\")\n",
    "                else:\n",
    "                    print(\"Could not remove the student.\")\n",
    "            else:\n",
    "                print(\"Deletion canceled.\")\n",
    "        else:\n",
    "            print(\"Student not found.\")"
   ]
  },
  {
   "cell_type": "markdown",
   "id": "9a8e85ff",
   "metadata": {},
   "source": [
    "### Modifying a student"
   ]
  },
  {
   "cell_type": "code",
   "execution_count": null,
   "id": "422938ba",
   "metadata": {},
   "outputs": [],
   "source": [
    "     elif option == 3:\n",
    "        student_id_to_modify = input(\"Enter the student ID to modify: \")\n",
    "        new_name = input(\"Enter the new name for the student: \")\n",
    "        new_last_name = input(\"Enter the new last name for the student: \")\n",
    "        new_middle_name = input(\"Enter the new middle name for the student: \")\n",
    "        new_major = input(\"Enter the new major for the student: \")\n",
    "        new_email = input(\"Enter the new email for the student: \")\n",
    "        new_phone = input(\"Enter the new phone number for the student: \")\n",
    "        catalog.modify_student(student_id_to_modify, new_name, new_last_name, new_middle_name, new_major, new_email, new_phone)"
   ]
  },
  {
   "cell_type": "markdown",
   "id": "09463a79",
   "metadata": {},
   "source": [
    "### Listing all students"
   ]
  },
  {
   "cell_type": "code",
   "execution_count": null,
   "id": "f3090b41",
   "metadata": {},
   "outputs": [],
   "source": [
    "    elif option == 4:\n",
    "        print(\"Registered Students:\")\n",
    "        print(catalog.list_students())"
   ]
  },
  {
   "cell_type": "markdown",
   "id": "31ec85f4",
   "metadata": {},
   "source": [
    "### Finding a student"
   ]
  },
  {
   "cell_type": "code",
   "execution_count": null,
   "id": "9df7f463",
   "metadata": {},
   "outputs": [],
   "source": [
    "    elif option == 5:\n",
    "        student_id_to_find = input(\"Enter the student ID to search for: \")\n",
    "        student_found = catalog.find_student(student_id_to_find)\n",
    "        if student_found:\n",
    "            print(\"Student found, their details are:\")\n",
    "            print(\"Student ID:\", student_found['student_id'])\n",
    "            print(\"Name:\", student_found['name'])\n",
    "            print(\"Last Name:\", student_found['last_name'])\n",
    "            print(\"Middle Name:\", student_found['middle_name'])\n",
    "            print(\"Major:\", student_found['major'])\n",
    "            print(\"Email:\", student_found['email'])\n",
    "            print(\"Phone:\", student_found['phone'])\n",
    "        else:\n",
    "            print(\"Student not found.\")"
   ]
  },
  {
   "cell_type": "code",
   "execution_count": null,
   "id": "75e23dd2",
   "metadata": {},
   "outputs": [],
   "source": [
    "elif option == 6:\n",
    "        print(\"Exiting the program...\")\n",
    "        break\n",
    "    else:\n",
    "        print(\"Invalid option. Please select a valid option from the menu.\")"
   ]
  },
  {
   "cell_type": "markdown",
   "id": "41bcbc8a",
   "metadata": {},
   "source": [
    "### Add students to the catalog"
   ]
  },
  {
   "cell_type": "code",
   "execution_count": null,
   "id": "809a09a8",
   "metadata": {},
   "outputs": [],
   "source": [
    "last_index = catalog.add_student(catalog.students, last_index)\n",
    "last_index = catalog.add_student(catalog.students, last_index)"
   ]
  },
  {
   "cell_type": "markdown",
   "id": "ad51d1d5",
   "metadata": {},
   "source": [
    "### List students after adding two students"
   ]
  },
  {
   "cell_type": "code",
   "execution_count": null,
   "id": "13ea8bc9",
   "metadata": {},
   "outputs": [],
   "source": [
    "print(\"Registered Students:\")\n",
    "print(catalog.list_students())"
   ]
  },
  {
   "cell_type": "markdown",
   "id": "0a9b1b22",
   "metadata": {},
   "source": [
    "### Modify a student"
   ]
  },
  {
   "cell_type": "code",
   "execution_count": null,
   "id": "26495e15",
   "metadata": {},
   "outputs": [],
   "source": [
    "student_id_to_modify = input(\"Enter the student ID to modify: \")\n",
    "new_name = input(\"Enter the new name for the student: \")\n",
    "new_last_name = input(\"Enter the new last name for the student: \")\n",
    "new_middle_name = input(\"Enter the new middle name for the student: \")\n",
    "new_major = input(\"Enter the new major for the student: \")\n",
    "new_email = input(\"Enter the new email for the student: \")\n",
    "new_phone = input(\"Enter the new phone number for the student: \")\n",
    "\n",
    "catalog.modify_student(student_id_to_modify, new_name, new_last_name, new_middle_name, new_major, new_email, new_phone)"
   ]
  },
  {
   "cell_type": "markdown",
   "id": "cf1e21df",
   "metadata": {},
   "source": [
    "### List students after modification"
   ]
  },
  {
   "cell_type": "code",
   "execution_count": null,
   "id": "0df9acb7",
   "metadata": {},
   "outputs": [],
   "source": [
    "print(\"Students after modification:\")\n",
    "print(catalog.list_students())"
   ]
  },
  {
   "cell_type": "markdown",
   "id": "2ef4bd39",
   "metadata": {},
   "source": [
    "### Remove a student"
   ]
  },
  {
   "cell_type": "code",
   "execution_count": null,
   "id": "41b13bce",
   "metadata": {},
   "outputs": [],
   "source": [
    "catalog.remove_student('67890')"
   ]
  },
  {
   "cell_type": "markdown",
   "id": "149b29a2",
   "metadata": {},
   "source": [
    "### List students after removal"
   ]
  },
  {
   "cell_type": "code",
   "execution_count": null,
   "id": "eb655645",
   "metadata": {},
   "outputs": [],
   "source": [
    "print(\"Students after removal:\")\n",
    "print(catalog.list_students())"
   ]
  }
 ],
 "metadata": {
  "kernelspec": {
   "display_name": "Python 3 (ipykernel)",
   "language": "python",
   "name": "python3"
  },
  "language_info": {
   "codemirror_mode": {
    "name": "ipython",
    "version": 3
   },
   "file_extension": ".py",
   "mimetype": "text/x-python",
   "name": "python",
   "nbconvert_exporter": "python",
   "pygments_lexer": "ipython3",
   "version": "3.9.13"
  }
 },
 "nbformat": 4,
 "nbformat_minor": 5
}
